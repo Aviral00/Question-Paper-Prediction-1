{
 "cells": [
  {
   "cell_type": "markdown",
   "metadata": {},
   "source": [
    "# SVM"
   ]
  },
  {
   "cell_type": "markdown",
   "metadata": {},
   "source": [
    "Importing libraries and dataset"
   ]
  },
  {
   "cell_type": "code",
   "execution_count": 2,
   "metadata": {},
   "outputs": [],
   "source": [
    "#importing required packages\n",
    "import pandas as pd #Responsible for dataset processing\n",
    "import numpy as np  #For arrays\n",
    "import matplotlib.pyplot as plt #For plotting graph\n",
    "from sklearn.svm import SVC #This contains the support vector classification model\n",
    "import sklearn.metrics as metrics  #For checking the accuracy of our model\n",
    "import sklearn.model_selection as sk  #This is for dividing our model into test and train data\n",
    "from sklearn import preprocessing      #This package contains our label encoder\n",
    "from mpl_toolkits.mplot3d import Axes3D\n"
   ]
  },
  {
   "cell_type": "code",
   "execution_count": 3,
   "metadata": {},
   "outputs": [],
   "source": [
    "#retrieving dataset\n",
    "df=pd.read_excel(r\"C:\\Users\\Tushar\\Desktop\\Question Paper Prediction-ML project\\oops-dataset.xlsx\")"
   ]
  },
  {
   "cell_type": "markdown",
   "metadata": {},
   "source": [
    "#### Lets view our dataset\n",
    "As we can see, we have 5 attributes Year, exam type, topic, subtopics are categorical whereas marks is numerical"
   ]
  },
  {
   "cell_type": "code",
   "execution_count": 4,
   "metadata": {},
   "outputs": [
    {
     "data": {
      "text/html": [
       "<div>\n",
       "<style scoped>\n",
       "    .dataframe tbody tr th:only-of-type {\n",
       "        vertical-align: middle;\n",
       "    }\n",
       "\n",
       "    .dataframe tbody tr th {\n",
       "        vertical-align: top;\n",
       "    }\n",
       "\n",
       "    .dataframe thead th {\n",
       "        text-align: right;\n",
       "    }\n",
       "</style>\n",
       "<table border=\"1\" class=\"dataframe\">\n",
       "  <thead>\n",
       "    <tr style=\"text-align: right;\">\n",
       "      <th></th>\n",
       "      <th>YEAR</th>\n",
       "      <th>EXAM TYPE</th>\n",
       "      <th>TOPICS</th>\n",
       "      <th>SUBTOPICS</th>\n",
       "      <th>MARKS</th>\n",
       "    </tr>\n",
       "  </thead>\n",
       "  <tbody>\n",
       "    <tr>\n",
       "      <th>0</th>\n",
       "      <td>2014-15</td>\n",
       "      <td>SEMESTER END</td>\n",
       "      <td>Introduction</td>\n",
       "      <td>OOPS Features</td>\n",
       "      <td>6.0</td>\n",
       "    </tr>\n",
       "    <tr>\n",
       "      <th>1</th>\n",
       "      <td>2014-15</td>\n",
       "      <td>SEMESTER END</td>\n",
       "      <td>Introduction</td>\n",
       "      <td>Pointers</td>\n",
       "      <td>4.0</td>\n",
       "    </tr>\n",
       "    <tr>\n",
       "      <th>2</th>\n",
       "      <td>2014-15</td>\n",
       "      <td>SEMESTER END</td>\n",
       "      <td>Functions</td>\n",
       "      <td>Default Arguments</td>\n",
       "      <td>6.0</td>\n",
       "    </tr>\n",
       "    <tr>\n",
       "      <th>3</th>\n",
       "      <td>2014-15</td>\n",
       "      <td>SEMESTER END</td>\n",
       "      <td>Functions</td>\n",
       "      <td>Inline Function</td>\n",
       "      <td>4.0</td>\n",
       "    </tr>\n",
       "    <tr>\n",
       "      <th>4</th>\n",
       "      <td>2014-15</td>\n",
       "      <td>SEMESTER END</td>\n",
       "      <td>Constructors</td>\n",
       "      <td>Types of Constructors</td>\n",
       "      <td>6.0</td>\n",
       "    </tr>\n",
       "  </tbody>\n",
       "</table>\n",
       "</div>"
      ],
      "text/plain": [
       "      YEAR     EXAM TYPE        TOPICS              SUBTOPICS  MARKS\n",
       "0  2014-15  SEMESTER END  Introduction          OOPS Features    6.0\n",
       "1  2014-15  SEMESTER END  Introduction               Pointers    4.0\n",
       "2  2014-15  SEMESTER END     Functions      Default Arguments    6.0\n",
       "3  2014-15  SEMESTER END     Functions        Inline Function    4.0\n",
       "4  2014-15  SEMESTER END  Constructors  Types of Constructors    6.0"
      ]
     },
     "execution_count": 4,
     "metadata": {},
     "output_type": "execute_result"
    }
   ],
   "source": [
    "#to view our dataset\n",
    "df.head()"
   ]
  },
  {
   "cell_type": "markdown",
   "metadata": {},
   "source": [
    "#### Label Encoding"
   ]
  },
  {
   "cell_type": "code",
   "execution_count": 5,
   "metadata": {},
   "outputs": [
    {
     "name": "stdout",
     "output_type": "stream",
     "text": [
      "Files\n"
     ]
    }
   ],
   "source": [
    "#Now we gonna label encode our columns\n",
    "le=preprocessing.LabelEncoder()\n",
    "#Encode Year and store the mappings\n",
    "year=le.fit_transform(df.YEAR)\n",
    "year_map = dict(zip(le.classes_, le.transform(le.classes_)))\n",
    "#Encode Exam type and store the mapping\n",
    "types=le.fit_transform(df['EXAM TYPE'])\n",
    "types_map = dict(zip(le.classes_, le.transform(le.classes_)))\n",
    "#Encode topics and store the mapping\n",
    "top=le.fit_transform(df.TOPICS)\n",
    "top_map = dict(zip(le.classes_, le.transform(le.classes_)))\n",
    "#Encode subtopics and store the mapping\n",
    "subtop=le.fit_transform(df.SUBTOPICS)\n",
    "subtop_map = dict(zip(le.classes_, le.transform(le.classes_)))\n",
    "marks=le.fit_transform(df.MARKS)\n",
    "marks_map = dict(zip(le.classes_, le.transform(le.classes_)))\n",
    "print(list(top_map.keys())[list(top_map.values()).index(2)]) "
   ]
  },
  {
   "cell_type": "markdown",
   "metadata": {},
   "source": [
    "#### Fitting dataset into model and checking accuracy"
   ]
  },
  {
   "cell_type": "code",
   "execution_count": 29,
   "metadata": {},
   "outputs": [],
   "source": [
    "#Now first model will predict the marks when we feed the year and subtopic into it\n",
    "independant=list(zip(year,marks)) #First models independant features\n",
    "model1=SVC(kernel=\"poly\",degree=5)  #creates the model, we just need to fit test data into it \n",
    "xtest,xtrain,ytest,ytrain=sk.train_test_split(independant,types,test_size=25,train_size=75,random_state=30)\n",
    "#The above code just split our dataset into test and train data"
   ]
  },
  {
   "cell_type": "code",
   "execution_count": 30,
   "metadata": {},
   "outputs": [
    {
     "name": "stderr",
     "output_type": "stream",
     "text": [
      "C:\\Users\\Tushar\\Anaconda3\\lib\\site-packages\\sklearn\\utils\\validation.py:72: DataConversionWarning: A column-vector y was passed when a 1d array was expected. Please change the shape of y to (n_samples, ), for example using ravel().\n",
      "  return f(**kwargs)\n"
     ]
    },
    {
     "data": {
      "text/plain": [
       "SVC(degree=5, kernel='poly')"
      ]
     },
     "execution_count": 30,
     "metadata": {},
     "output_type": "execute_result"
    }
   ],
   "source": [
    "#Now we are going to fit our data into the first linear regression model\n",
    "model1.fit(np.array(xtrain).reshape(-1,2),np.array(ytrain).reshape(-1,1))"
   ]
  },
  {
   "cell_type": "code",
   "execution_count": 31,
   "metadata": {},
   "outputs": [],
   "source": [
    "ypred = model1.predict(xtest) "
   ]
  },
  {
   "cell_type": "code",
   "execution_count": 32,
   "metadata": {},
   "outputs": [
    {
     "name": "stdout",
     "output_type": "stream",
     "text": [
      "SVC accuracy(in %): 33.33333333333333\n"
     ]
    }
   ],
   "source": [
    "print(\"SVC accuracy(in %):\", metrics.accuracy_score(ytest, ypred)*100)"
   ]
  },
  {
   "cell_type": "code",
   "execution_count": 37,
   "metadata": {},
   "outputs": [],
   "source": [
    "independant=list(zip(year,marks,top)) \n",
    "model2=SVC(kernel=\"poly\",degree=5)\n",
    "xtest,xtrain,ytest,ytrain=sk.train_test_split(independant,types,test_size=0.90,train_size=0.1,random_state=41)"
   ]
  },
  {
   "cell_type": "code",
   "execution_count": 38,
   "metadata": {},
   "outputs": [
    {
     "name": "stderr",
     "output_type": "stream",
     "text": [
      "C:\\Users\\Tushar\\Anaconda3\\lib\\site-packages\\sklearn\\utils\\validation.py:72: DataConversionWarning: A column-vector y was passed when a 1d array was expected. Please change the shape of y to (n_samples, ), for example using ravel().\n",
      "  return f(**kwargs)\n"
     ]
    },
    {
     "data": {
      "text/plain": [
       "SVC(degree=5, kernel='poly')"
      ]
     },
     "execution_count": 38,
     "metadata": {},
     "output_type": "execute_result"
    }
   ],
   "source": [
    "model2.fit(np.array(xtrain).reshape(-1,3),np.array(ytrain).reshape(-1,1))"
   ]
  },
  {
   "cell_type": "code",
   "execution_count": 39,
   "metadata": {},
   "outputs": [],
   "source": [
    "ypred = model1.predict(xtest) "
   ]
  },
  {
   "cell_type": "code",
   "execution_count": 40,
   "metadata": {},
   "outputs": [
    {
     "name": "stdout",
     "output_type": "stream",
     "text": [
      "SVC accuracy(in %): 26.08695652173913\n"
     ]
    }
   ],
   "source": [
    "print(\"SVC accuracy(in %):\", metrics.accuracy_score(ytest, ypred)*100)"
   ]
  },
  {
   "cell_type": "code",
   "execution_count": 44,
   "metadata": {},
   "outputs": [
    {
     "name": "stdout",
     "output_type": "stream",
     "text": [
      "SEMESTER END\n"
     ]
    }
   ],
   "source": [
    "print(list(types_map.keys())[list(types_map.values()).index( model1.predict(np.array([0,0,0]).reshape(-1,3))[0])])"
   ]
  },
  {
   "cell_type": "code",
   "execution_count": null,
   "metadata": {},
   "outputs": [],
   "source": []
  }
 ],
 "metadata": {
  "kernelspec": {
   "display_name": "Python 3",
   "language": "python",
   "name": "python3"
  },
  "language_info": {
   "codemirror_mode": {
    "name": "ipython",
    "version": 3
   },
   "file_extension": ".py",
   "mimetype": "text/x-python",
   "name": "python",
   "nbconvert_exporter": "python",
   "pygments_lexer": "ipython3",
   "version": "3.7.3"
  }
 },
 "nbformat": 4,
 "nbformat_minor": 4
}
