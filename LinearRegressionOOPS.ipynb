{
 "cells": [
  {
   "cell_type": "markdown",
   "metadata": {},
   "source": [
    "# Linear Regression Model"
   ]
  },
  {
   "cell_type": "markdown",
   "metadata": {},
   "source": [
    "#### Importing libraries and datasets"
   ]
  },
  {
   "cell_type": "code",
   "execution_count": 1,
   "metadata": {},
   "outputs": [],
   "source": [
    "#importing required packages\n",
    "import pandas as pd #Responsible for dataset processing\n",
    "import numpy as np  #For arrays\n",
    "import matplotlib.pyplot as plt #For plotting graph\n",
    "from sklearn.linear_model import LinearRegression as LR  #This contains the linear regression model\n",
    "from sklearn.metrics import mean_squared_error as mse, r2_score #For checking the accuracy of our model\n",
    "import sklearn.model_selection as sk  #This is for dividing our model into test and train data\n",
    "from sklearn import preprocessing      #This package contains our label encoder\n",
    "from mpl_toolkits.mplot3d import Axes3D\n"
   ]
  },
  {
   "cell_type": "code",
   "execution_count": 2,
   "metadata": {},
   "outputs": [],
   "source": [
    "#retrieving dataset\n",
    "df=pd.read_excel(r\"C:\\Users\\Tushar\\Desktop\\Question Paper Prediction-ML project\\oops-dataset.xlsx\")"
   ]
  },
  {
   "cell_type": "markdown",
   "metadata": {},
   "source": [
    "#### Lets view our dataset\n",
    "As we can see, we have 5 attributes\n",
    "Year, exam type, topic, subtopics are categorical whereas marks is numerical"
   ]
  },
  {
   "cell_type": "code",
   "execution_count": 3,
   "metadata": {},
   "outputs": [
    {
     "data": {
      "text/html": [
       "<div>\n",
       "<style scoped>\n",
       "    .dataframe tbody tr th:only-of-type {\n",
       "        vertical-align: middle;\n",
       "    }\n",
       "\n",
       "    .dataframe tbody tr th {\n",
       "        vertical-align: top;\n",
       "    }\n",
       "\n",
       "    .dataframe thead th {\n",
       "        text-align: right;\n",
       "    }\n",
       "</style>\n",
       "<table border=\"1\" class=\"dataframe\">\n",
       "  <thead>\n",
       "    <tr style=\"text-align: right;\">\n",
       "      <th></th>\n",
       "      <th>YEAR</th>\n",
       "      <th>EXAM TYPE</th>\n",
       "      <th>TOPICS</th>\n",
       "      <th>SUBTOPICS</th>\n",
       "      <th>MARKS</th>\n",
       "    </tr>\n",
       "  </thead>\n",
       "  <tbody>\n",
       "    <tr>\n",
       "      <th>0</th>\n",
       "      <td>2014-15</td>\n",
       "      <td>SEMESTER END</td>\n",
       "      <td>Introduction</td>\n",
       "      <td>OOPS Features</td>\n",
       "      <td>6.0</td>\n",
       "    </tr>\n",
       "    <tr>\n",
       "      <th>1</th>\n",
       "      <td>2014-15</td>\n",
       "      <td>SEMESTER END</td>\n",
       "      <td>Introduction</td>\n",
       "      <td>Pointers</td>\n",
       "      <td>4.0</td>\n",
       "    </tr>\n",
       "    <tr>\n",
       "      <th>2</th>\n",
       "      <td>2014-15</td>\n",
       "      <td>SEMESTER END</td>\n",
       "      <td>Functions</td>\n",
       "      <td>Default Arguments</td>\n",
       "      <td>6.0</td>\n",
       "    </tr>\n",
       "    <tr>\n",
       "      <th>3</th>\n",
       "      <td>2014-15</td>\n",
       "      <td>SEMESTER END</td>\n",
       "      <td>Functions</td>\n",
       "      <td>Inline Function</td>\n",
       "      <td>4.0</td>\n",
       "    </tr>\n",
       "    <tr>\n",
       "      <th>4</th>\n",
       "      <td>2014-15</td>\n",
       "      <td>SEMESTER END</td>\n",
       "      <td>Constructors</td>\n",
       "      <td>Types of Constructors</td>\n",
       "      <td>6.0</td>\n",
       "    </tr>\n",
       "  </tbody>\n",
       "</table>\n",
       "</div>"
      ],
      "text/plain": [
       "      YEAR     EXAM TYPE        TOPICS              SUBTOPICS  MARKS\n",
       "0  2014-15  SEMESTER END  Introduction          OOPS Features    6.0\n",
       "1  2014-15  SEMESTER END  Introduction               Pointers    4.0\n",
       "2  2014-15  SEMESTER END     Functions      Default Arguments    6.0\n",
       "3  2014-15  SEMESTER END     Functions        Inline Function    4.0\n",
       "4  2014-15  SEMESTER END  Constructors  Types of Constructors    6.0"
      ]
     },
     "execution_count": 3,
     "metadata": {},
     "output_type": "execute_result"
    }
   ],
   "source": [
    "#to view our dataset\n",
    "df.head()"
   ]
  },
  {
   "cell_type": "markdown",
   "metadata": {},
   "source": [
    "#### label encoding"
   ]
  },
  {
   "cell_type": "code",
   "execution_count": 4,
   "metadata": {},
   "outputs": [
    {
     "name": "stdout",
     "output_type": "stream",
     "text": [
      "Files\n"
     ]
    }
   ],
   "source": [
    "#Now we gonna label encode our columns\n",
    "le=preprocessing.LabelEncoder()\n",
    "#Encode Year and store the mappings\n",
    "year=le.fit_transform(df.YEAR)\n",
    "year_map = dict(zip(le.classes_, le.transform(le.classes_)))\n",
    "#Encode Exam type and store the mapping\n",
    "types=le.fit_transform(df['EXAM TYPE'])\n",
    "types_map = dict(zip(le.classes_, le.transform(le.classes_)))\n",
    "#Encode topics and store the mapping\n",
    "top=le.fit_transform(df.TOPICS)\n",
    "top_map = dict(zip(le.classes_, le.transform(le.classes_)))\n",
    "#Encode subtopics and store the mapping\n",
    "subtop=le.fit_transform(df.SUBTOPICS)\n",
    "subtop_map = dict(zip(le.classes_, le.transform(le.classes_)))\n",
    "marks=le.fit_transform(df.MARKS)\n",
    "marks_map = dict(zip(le.classes_, le.transform(le.classes_)))\n",
    "print(list(top_map.keys())[list(top_map.values()).index(2)]) "
   ]
  },
  {
   "cell_type": "markdown",
   "metadata": {},
   "source": [
    "#### Fitting dataframes into different models and checking accuracy"
   ]
  },
  {
   "cell_type": "code",
   "execution_count": 5,
   "metadata": {},
   "outputs": [],
   "source": [
    "#Now first model will predict the marks when we feed the year and subtopic into it\n",
    "independant=list(zip(year,subtop)) #First models independant features\n",
    "model1=LR(); #creates the model, we just need to fit test data into it \n",
    "xtest,xtrain,ytest,ytrain=sk.train_test_split(independant,marks,test_size=25,train_size=75,random_state=30)\n",
    "#The above code just split our dataset into test and train data\n"
   ]
  },
  {
   "cell_type": "code",
   "execution_count": 6,
   "metadata": {},
   "outputs": [
    {
     "data": {
      "text/plain": [
       "LinearRegression()"
      ]
     },
     "execution_count": 6,
     "metadata": {},
     "output_type": "execute_result"
    }
   ],
   "source": [
    "#Now we are going to fit our data into the first linear regression model\n",
    "model1.fit(np.array(xtrain).reshape(-1,2),np.array(ytrain).reshape(-1,1))"
   ]
  },
  {
   "cell_type": "code",
   "execution_count": 7,
   "metadata": {},
   "outputs": [
    {
     "name": "stdout",
     "output_type": "stream",
     "text": [
      "Accuracy based on train set\n",
      "5.0312231691055835\n",
      "0.11422127304479157\n",
      "\n",
      "Accuracy based on entire dataset\n",
      "3.4627426920097104\n",
      "0.01082767059427725\n",
      "\n",
      "Accuracy based on test set\n",
      "2.156786898136935\n",
      "0.10465488545975954\n"
     ]
    }
   ],
   "source": [
    "print(\"Accuracy based on train set\")\n",
    "ypred=model1.predict(xtrain)\n",
    "accuracy=r2_score(ytrain,ypred)\n",
    "print(mse(ytrain,ypred))\n",
    "print(accuracy)\n",
    "\n",
    "print(\"\\nAccuracy based on entire dataset\")\n",
    "ypred=model1.predict(np.array(independant).reshape(-1,2))\n",
    "accuracy=r2_score(marks,ypred)\n",
    "print(mse(marks,ypred))\n",
    "print(accuracy)\n",
    "\n",
    "print(\"\\nAccuracy based on test set\")\n",
    "ypred=model1.predict(np.array(xtest).reshape(-1,2))\n",
    "accuracy=r2_score(ytest,ypred)\n",
    "print(mse(ytest,ypred))\n",
    "print(accuracy)"
   ]
  },
  {
   "cell_type": "code",
   "execution_count": 8,
   "metadata": {},
   "outputs": [
    {
     "data": {
      "text/plain": [
       "array([[5.57185644]])"
      ]
     },
     "execution_count": 8,
     "metadata": {},
     "output_type": "execute_result"
    }
   ],
   "source": [
    "ypred=model1.predict(np.array([0,0]).reshape(-1,2))\n",
    "ypred"
   ]
  },
  {
   "cell_type": "code",
   "execution_count": 9,
   "metadata": {},
   "outputs": [],
   "source": [
    "#Now second model will predict the marks when we feed the year,examtype and subtopic into it\n",
    "independant=list(zip(year,types,subtop)) #First models independant features\n",
    "model2=LR(); #creates the model, we just need to fit test data into it \n",
    "xtest,xtrain,ytest,ytrain=sk.train_test_split(independant,marks,test_size=25,train_size=75,random_state=30)\n",
    "#The above code just split our dataset into test and train data"
   ]
  },
  {
   "cell_type": "code",
   "execution_count": 10,
   "metadata": {},
   "outputs": [
    {
     "data": {
      "text/plain": [
       "LinearRegression()"
      ]
     },
     "execution_count": 10,
     "metadata": {},
     "output_type": "execute_result"
    }
   ],
   "source": [
    "#Now we are going to fit our data into the second linear regression model\n",
    "model2.fit(np.array(xtrain).reshape(-1,3),np.array(ytrain).reshape(-1,1))"
   ]
  },
  {
   "cell_type": "code",
   "execution_count": 11,
   "metadata": {},
   "outputs": [
    {
     "name": "stdout",
     "output_type": "stream",
     "text": [
      "Accuracy based on train set\n",
      "5.006748103472776\n",
      "0.11853026347310291\n",
      "\n",
      "Accuracy based on entire dataset\n",
      "3.471284370845357\n",
      "0.00838764166276329\n",
      "\n",
      "Accuracy based on test set\n",
      "2.1785856387672844\n",
      "0.09560559276265868\n"
     ]
    }
   ],
   "source": [
    "print(\"Accuracy based on train set\")\n",
    "ypred=model2.predict(xtrain)\n",
    "accuracy=r2_score(ytrain,ypred)\n",
    "print(mse(ytrain,ypred))\n",
    "print(accuracy)\n",
    "\n",
    "print(\"\\nAccuracy based on entire dataset\")\n",
    "ypred=model2.predict(np.array(independant).reshape(-1,3))\n",
    "accuracy=r2_score(marks,ypred)\n",
    "print(mse(marks,ypred))\n",
    "print(accuracy)\n",
    "\n",
    "print(\"\\nAccuracy based on test set\")\n",
    "ypred=model2.predict(np.array(xtest).reshape(-1,3))\n",
    "accuracy=r2_score(ytest,ypred)\n",
    "print(mse(ytest,ypred))\n",
    "print(accuracy)"
   ]
  },
  {
   "cell_type": "code",
   "execution_count": 12,
   "metadata": {},
   "outputs": [],
   "source": [
    "#Now second model will predict the marks when we feed the year, topic into it\n",
    "independant=list(zip(year,top,subtop)) #First models independant features\n",
    "model3=LR(); #creates the model, we just need to fit test data into it \n",
    "xtest,xtrain,ytest,ytrain=sk.train_test_split(independant,marks,test_size=25,train_size=75,random_state=30)\n",
    "#The above code just split our dataset into test and train data"
   ]
  },
  {
   "cell_type": "code",
   "execution_count": 13,
   "metadata": {},
   "outputs": [
    {
     "data": {
      "text/plain": [
       "LinearRegression()"
      ]
     },
     "execution_count": 13,
     "metadata": {},
     "output_type": "execute_result"
    }
   ],
   "source": [
    "#Now we are going to fit our data into the second linear regression model\n",
    "model3.fit(np.array(xtrain).reshape(-1,3),np.array(ytrain).reshape(-1,1))"
   ]
  },
  {
   "cell_type": "code",
   "execution_count": 14,
   "metadata": {},
   "outputs": [
    {
     "name": "stdout",
     "output_type": "stream",
     "text": [
      "Accuracy based on train set\n",
      "3.663222084297735\n",
      "0.3550665344546241\n",
      "\n",
      "Accuracy based on entire dataset\n",
      "3.7470818394213308\n",
      "-0.07039708151779833\n",
      "\n",
      "Accuracy based on test set\n",
      "2.9084833931561542\n",
      "-0.207396242546374\n"
     ]
    }
   ],
   "source": [
    "print(\"Accuracy based on train set\")\n",
    "ypred=model3.predict(xtrain)\n",
    "accuracy=r2_score(ytrain,ypred)\n",
    "print(mse(ytrain,ypred))\n",
    "print(accuracy)\n",
    "\n",
    "print(\"\\nAccuracy based on entire dataset\")\n",
    "lpred=model3.predict(np.array(independant).reshape(-1,3))\n",
    "accuracy=r2_score(marks,lpred)\n",
    "print(mse(marks,lpred))\n",
    "print(accuracy)\n",
    "\n",
    "print(\"\\nAccuracy based on test set\")\n",
    "ypred=model3.predict(np.array(xtest).reshape(-1,3))\n",
    "accuracy=r2_score(ytest,ypred)\n",
    "print(mse(ytest,ypred))\n",
    "print(accuracy)"
   ]
  },
  {
   "cell_type": "code",
   "execution_count": null,
   "metadata": {},
   "outputs": [],
   "source": []
  },
  {
   "cell_type": "code",
   "execution_count": null,
   "metadata": {},
   "outputs": [],
   "source": []
  }
 ],
 "metadata": {
  "kernelspec": {
   "display_name": "Python 3",
   "language": "python",
   "name": "python3"
  },
  "language_info": {
   "codemirror_mode": {
    "name": "ipython",
    "version": 3
   },
   "file_extension": ".py",
   "mimetype": "text/x-python",
   "name": "python",
   "nbconvert_exporter": "python",
   "pygments_lexer": "ipython3",
   "version": "3.7.3"
  }
 },
 "nbformat": 4,
 "nbformat_minor": 2
}
