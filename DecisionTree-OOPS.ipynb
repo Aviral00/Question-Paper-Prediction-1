{
 "cells": [
  {
   "cell_type": "code",
   "execution_count": null,
   "metadata": {},
   "outputs": [],
   "source": [
    "# Decision Tree Classification "
   ]
  },
  {
   "cell_type": "markdown",
   "metadata": {},
   "source": [
    "#### Importing Dataset and Libraries"
   ]
  },
  {
   "cell_type": "code",
   "execution_count": 1,
   "metadata": {},
   "outputs": [],
   "source": [
    "import numpy as np\n",
    "import pandas as pd\n",
    "from sklearn.tree import DecisionTreeClassifier as dtc\n",
    "from sklearn.tree import DecisionTreeRegressor as dtr\n",
    "from sklearn import preprocessing \n",
    "import sklearn.model_selection as sk\n",
    "from sklearn.metrics import accuracy_score \n",
    "from sklearn.model_selection import train_test_split"
   ]
  },
  {
   "cell_type": "code",
   "execution_count": 2,
   "metadata": {},
   "outputs": [],
   "source": [
    "#retrieving dataset\n",
    "df=pd.read_excel(r\"C:\\Users\\Tushar\\Desktop\\Question Paper Prediction-ML project\\oops-dataset.xlsx\")"
   ]
  },
  {
   "cell_type": "markdown",
   "metadata": {},
   "source": [
    "#### Label Encoding"
   ]
  },
  {
   "cell_type": "code",
   "execution_count": 3,
   "metadata": {},
   "outputs": [
    {
     "data": {
      "text/plain": [
       "{'2014-15': 0, '2016-17': 1, '2017-18': 2, '2018-19': 3}"
      ]
     },
     "execution_count": 3,
     "metadata": {},
     "output_type": "execute_result"
    }
   ],
   "source": [
    "le=preprocessing.LabelEncoder()\n",
    "year=le.fit_transform(df.YEAR)\n",
    "year_map = dict(zip(le.classes_, le.transform(le.classes_)))\n",
    "types=le.fit_transform(df['EXAM TYPE'])\n",
    "types_map = dict(zip(le.classes_, le.transform(le.classes_)))\n",
    "top=le.fit_transform(df.TOPICS)\n",
    "top_map = dict(zip(le.classes_, le.transform(le.classes_)))\n",
    "subtop=le.fit_transform(df.SUBTOPICS)\n",
    "subtop_map = dict(zip(le.classes_, le.transform(le.classes_)))\n",
    "marks=le.fit_transform(df.MARKS)\n",
    "marks_map = dict(zip(le.classes_, le.transform(le.classes_)))\n",
    "marks_map\n",
    "year_map\n"
   ]
  },
  {
   "cell_type": "markdown",
   "metadata": {},
   "source": [
    "#### Fitting into model, checking accuracy and visualization\n",
    "For visualization of the decision tree formed, we use graphviz which generates a dot file. This dot file can be converted to png file"
   ]
  },
  {
   "cell_type": "code",
   "execution_count": 4,
   "metadata": {},
   "outputs": [],
   "source": [
    "independant=list(zip(year,marks)) \n",
    "model1=dtc(criterion='entropy',max_depth=5) \n",
    "xtest,xtrain,ytest,ytrain=sk.train_test_split(independant,types,test_size=0.90,train_size=0.1,random_state=41)"
   ]
  },
  {
   "cell_type": "code",
   "execution_count": 5,
   "metadata": {},
   "outputs": [
    {
     "data": {
      "text/plain": [
       "DecisionTreeClassifier(criterion='entropy', max_depth=5)"
      ]
     },
     "execution_count": 5,
     "metadata": {},
     "output_type": "execute_result"
    }
   ],
   "source": [
    "model1.fit(np.array(xtrain).reshape(-1,2),np.array(ytrain).reshape(-1,1))"
   ]
  },
  {
   "cell_type": "code",
   "execution_count": 6,
   "metadata": {},
   "outputs": [
    {
     "data": {
      "text/plain": [
       "array([1, 2, 1, 0, 2, 0, 2, 2, 2, 2, 0, 2, 2, 2, 1, 0, 2, 2, 1, 2, 1, 0,\n",
       "       2])"
      ]
     },
     "execution_count": 6,
     "metadata": {},
     "output_type": "execute_result"
    }
   ],
   "source": [
    "ypred=model1.predict(np.array(xtest).reshape(-1,2))\n",
    "ypred"
   ]
  },
  {
   "cell_type": "code",
   "execution_count": 7,
   "metadata": {},
   "outputs": [
    {
     "data": {
      "text/plain": [
       "0.4782608695652174"
      ]
     },
     "execution_count": 7,
     "metadata": {},
     "output_type": "execute_result"
    }
   ],
   "source": [
    "score=accuracy_score(ytest,ypred)\n",
    "score"
   ]
  },
  {
   "cell_type": "code",
   "execution_count": 8,
   "metadata": {},
   "outputs": [],
   "source": [
    "from sklearn.tree import export_graphviz as tree\n",
    "tree(model1,out_file=r'C:\\Users\\Tushar\\Desktop\\Question Paper Prediction-ML project\\DTC1.dot')"
   ]
  },
  {
   "cell_type": "code",
   "execution_count": 9,
   "metadata": {},
   "outputs": [],
   "source": [
    "independant=list(zip(year,marks,top))\n",
    "model2=dtc(criterion='entropy',max_depth=5) \n",
    "xtest,xtrain,ytest,ytrain=sk.train_test_split(independant,types,test_size=0.75,train_size=0.25,random_state=43)"
   ]
  },
  {
   "cell_type": "code",
   "execution_count": 10,
   "metadata": {},
   "outputs": [
    {
     "data": {
      "text/plain": [
       "DecisionTreeClassifier(criterion='entropy', max_depth=5)"
      ]
     },
     "execution_count": 10,
     "metadata": {},
     "output_type": "execute_result"
    }
   ],
   "source": [
    "model2.fit(np.array(xtrain).reshape(-1,3),np.array(ytrain).reshape(-1,1))"
   ]
  },
  {
   "cell_type": "code",
   "execution_count": 11,
   "metadata": {},
   "outputs": [
    {
     "data": {
      "text/plain": [
       "array([2, 0, 0, 0, 0, 1, 2, 2, 1, 1, 0, 0, 1, 2, 1, 0, 1, 1, 2, 2, 1, 1,\n",
       "       0, 1, 1, 1, 2, 0, 1, 1, 2, 0, 0, 1, 2, 1, 2, 2, 2, 2, 0, 1, 0, 0,\n",
       "       0, 2, 1, 2, 2, 1, 1, 1, 1, 1, 1, 1, 0])"
      ]
     },
     "execution_count": 11,
     "metadata": {},
     "output_type": "execute_result"
    }
   ],
   "source": [
    "ypred=model2.predict(np.array(xtest).reshape(-1,3))\n",
    "ypred"
   ]
  },
  {
   "cell_type": "code",
   "execution_count": 12,
   "metadata": {},
   "outputs": [
    {
     "data": {
      "text/plain": [
       "0.2807017543859649"
      ]
     },
     "execution_count": 12,
     "metadata": {},
     "output_type": "execute_result"
    }
   ],
   "source": [
    "score=accuracy_score(ytest,ypred)\n",
    "score"
   ]
  },
  {
   "cell_type": "code",
   "execution_count": 14,
   "metadata": {},
   "outputs": [],
   "source": [
    "from sklearn.tree import export_graphviz as tree\n",
    "tree(model2,out_file=r'C:\\Users\\Tushar\\Desktop\\Question Paper Prediction-ML project\\DTC2.dot')"
   ]
  },
  {
   "cell_type": "code",
   "execution_count": null,
   "metadata": {},
   "outputs": [],
   "source": []
  }
 ],
 "metadata": {
  "kernelspec": {
   "display_name": "Python 3",
   "language": "python",
   "name": "python3"
  },
  "language_info": {
   "codemirror_mode": {
    "name": "ipython",
    "version": 3
   },
   "file_extension": ".py",
   "mimetype": "text/x-python",
   "name": "python",
   "nbconvert_exporter": "python",
   "pygments_lexer": "ipython3",
   "version": "3.7.3"
  }
 },
 "nbformat": 4,
 "nbformat_minor": 2
}
